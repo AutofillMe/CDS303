{
 "cells": [
  {
   "cell_type": "markdown",
   "metadata": {},
   "source": [
    "# Exploratory Analysis Phishing_Email.csv Group 3"
   ]
  },
  {
   "cell_type": "code",
   "execution_count": 3,
   "metadata": {},
   "outputs": [],
   "source": [
    "# Potentionally helpful libraries:\n",
    "# pandas, matplotlib, seaborn, nltk, scikit-learn, gensim, pyLDAvis\n",
    "\n",
    "import pandas as pd\n",
    "import re"
   ]
  },
  {
   "cell_type": "code",
   "execution_count": 4,
   "metadata": {},
   "outputs": [],
   "source": [
    "def make_df():\n",
    "    # Reading in the data\n",
    "    df = pd.read_csv(\"Phishing_Email.csv\")\n",
    "    # Dropping the unecessary index row\n",
    "    df = df.drop(df.columns[0], axis=1)\n",
    "    \n",
    "    # Removing Nulls\n",
    "    # Check for null values in the \"Email Text\" column\n",
    "    null_mask = df[\"Email Text\"].isnull()\n",
    "\n",
    "    # If there are null values, drop the corresponding rows\n",
    "    if null_mask.any():\n",
    "        df = df.drop(df[null_mask].index)\n",
    "        \n",
    "    #Remove 'empty' emails from the dataframe\n",
    "    df_cleaned = df[df['Email Text'].str.lower() != 'empty']\n",
    "    df = df_cleaned\n",
    "    \n",
    "    return df"
   ]
  },
  {
   "cell_type": "code",
   "execution_count": 53,
   "metadata": {},
   "outputs": [
    {
     "data": {
      "text/html": [
       "<div>\n",
       "<style scoped>\n",
       "    .dataframe tbody tr th:only-of-type {\n",
       "        vertical-align: middle;\n",
       "    }\n",
       "\n",
       "    .dataframe tbody tr th {\n",
       "        vertical-align: top;\n",
       "    }\n",
       "\n",
       "    .dataframe thead th {\n",
       "        text-align: right;\n",
       "    }\n",
       "</style>\n",
       "<table border=\"1\" class=\"dataframe\">\n",
       "  <thead>\n",
       "    <tr style=\"text-align: right;\">\n",
       "      <th></th>\n",
       "      <th>Email Text</th>\n",
       "      <th>Email Type</th>\n",
       "    </tr>\n",
       "  </thead>\n",
       "  <tbody>\n",
       "    <tr>\n",
       "      <th>0</th>\n",
       "      <td>re : 6 . 1100 , disc : uniformitarianism , re ...</td>\n",
       "      <td>Safe Email</td>\n",
       "    </tr>\n",
       "    <tr>\n",
       "      <th>1</th>\n",
       "      <td>the other side of * galicismos * * galicismo *...</td>\n",
       "      <td>Safe Email</td>\n",
       "    </tr>\n",
       "    <tr>\n",
       "      <th>2</th>\n",
       "      <td>re : equistar deal tickets are you still avail...</td>\n",
       "      <td>Safe Email</td>\n",
       "    </tr>\n",
       "    <tr>\n",
       "      <th>3</th>\n",
       "      <td>\\r\\nHello I am your hot lil horny toy.\\r\\n    ...</td>\n",
       "      <td>Phishing Email</td>\n",
       "    </tr>\n",
       "    <tr>\n",
       "      <th>4</th>\n",
       "      <td>software at incredibly low prices ( 86 % lower...</td>\n",
       "      <td>Phishing Email</td>\n",
       "    </tr>\n",
       "    <tr>\n",
       "      <th>5</th>\n",
       "      <td>global risk management operations sally congra...</td>\n",
       "      <td>Safe Email</td>\n",
       "    </tr>\n",
       "    <tr>\n",
       "      <th>6</th>\n",
       "      <td>On Sun, Aug 11, 2002 at 11:17:47AM +0100, wint...</td>\n",
       "      <td>Safe Email</td>\n",
       "    </tr>\n",
       "    <tr>\n",
       "      <th>7</th>\n",
       "      <td>entourage , stockmogul newsletter ralph velez ...</td>\n",
       "      <td>Phishing Email</td>\n",
       "    </tr>\n",
       "    <tr>\n",
       "      <th>8</th>\n",
       "      <td>we owe you lots of money dear applicant , afte...</td>\n",
       "      <td>Phishing Email</td>\n",
       "    </tr>\n",
       "    <tr>\n",
       "      <th>9</th>\n",
       "      <td>re : coastal deal - with exxon participation u...</td>\n",
       "      <td>Safe Email</td>\n",
       "    </tr>\n",
       "  </tbody>\n",
       "</table>\n",
       "</div>"
      ],
      "text/plain": [
       "                                          Email Text      Email Type\n",
       "0  re : 6 . 1100 , disc : uniformitarianism , re ...      Safe Email\n",
       "1  the other side of * galicismos * * galicismo *...      Safe Email\n",
       "2  re : equistar deal tickets are you still avail...      Safe Email\n",
       "3  \\r\\nHello I am your hot lil horny toy.\\r\\n    ...  Phishing Email\n",
       "4  software at incredibly low prices ( 86 % lower...  Phishing Email\n",
       "5  global risk management operations sally congra...      Safe Email\n",
       "6  On Sun, Aug 11, 2002 at 11:17:47AM +0100, wint...      Safe Email\n",
       "7  entourage , stockmogul newsletter ralph velez ...  Phishing Email\n",
       "8  we owe you lots of money dear applicant , afte...  Phishing Email\n",
       "9  re : coastal deal - with exxon participation u...      Safe Email"
      ]
     },
     "execution_count": 53,
     "metadata": {},
     "output_type": "execute_result"
    }
   ],
   "source": [
    "# # Reading in the data\n",
    "# df_phish = pd.read_csv(\"Phishing_Email.csv\")\n",
    "# # Dropping the unecessary index row\n",
    "# df_phish = df_phish.drop(df_phish.columns[0], axis=1)\n",
    "# df_phish[0:10]"
   ]
  },
  {
   "cell_type": "markdown",
   "metadata": {},
   "source": [
    "## Data Cleaning"
   ]
  },
  {
   "cell_type": "code",
   "execution_count": 54,
   "metadata": {},
   "outputs": [
    {
     "name": "stdout",
     "output_type": "stream",
     "text": [
      "Nulls: 16\n",
      "Nulls: 0\n",
      "                                          Email Text      Email Type\n",
      "0  re : 6 . 1100 , disc : uniformitarianism , re ...      Safe Email\n",
      "1  the other side of * galicismos * * galicismo *...      Safe Email\n",
      "2  re : equistar deal tickets are you still avail...      Safe Email\n",
      "3  \\r\\nHello I am your hot lil horny toy.\\r\\n    ...  Phishing Email\n",
      "4  software at incredibly low prices ( 86 % lower...  Phishing Email\n",
      "5  global risk management operations sally congra...      Safe Email\n",
      "6  On Sun, Aug 11, 2002 at 11:17:47AM +0100, wint...      Safe Email\n",
      "7  entourage , stockmogul newsletter ralph velez ...  Phishing Email\n",
      "8  we owe you lots of money dear applicant , afte...  Phishing Email\n",
      "9  re : coastal deal - with exxon participation u...      Safe Email\n",
      "                                              Email Text      Email Type\n",
      "18630  s . hattori dies this is the english version o...      Safe Email\n",
      "18631  Update of /cvsroot/spamassassin/spamassassin\\r...      Safe Email\n",
      "18632  weekly deal report this is the weekly report c...      Safe Email\n",
      "18633  This article from NYTimes.com \\r\\nhas been sen...      Safe Email\n",
      "18634  congratulations you have won ! ! ! pls contact...  Phishing Email\n",
      "18635  On Fri, 4 Oct 2002, Mark Derricutt wrote:> Any...      Safe Email\n",
      "18636  prior month misnomination daren - - - - for 4 ...      Safe Email\n",
      "18637                                              empty  Phishing Email\n",
      "18638  strong buy alert : monthly newsletter topstock...  Phishing Email\n",
      "18639  out of office i have an appointment today and ...      Safe Email\n",
      "18640  list of english taboo words does anyone have a...      Safe Email\n",
      "18641  interview with the enron research group good m...      Safe Email\n",
      "18642  URL: http://diveintomark.org/archives/2002/09/...      Safe Email\n",
      "18643                                              empty      Safe Email\n",
      "18644  \\r\\nRick Moen  a Ã©crit:> > I'm confused. I th...      Safe Email\n",
      "18645  date a lonely housewife always wanted to date ...  Phishing Email\n",
      "18646  request submitted : access request for anita ....      Safe Email\n",
      "18647  re : important - prc mtg hi dorn & john , as y...      Safe Email\n",
      "18648  press clippings - letter on californian utilit...      Safe Email\n",
      "18649                                              empty  Phishing Email\n"
     ]
    }
   ],
   "source": [
    "# NullCount = df_phish[\"Email Text\"].isnull().sum()\n",
    "# print(\"Nulls:\", NullCount)\n",
    "# # Check for null values in the \"Email Text\" column\n",
    "# null_mask = df_phish[\"Email Text\"].isnull()\n",
    "\n",
    "# # If there are null values, drop the corresponding rows\n",
    "# if null_mask.any():\n",
    "#     df_phish = df_phish.drop(df_phish[null_mask].index)\n",
    "# # Checking if null values were dropped\n",
    "# NullCount = df_phish[\"Email Text\"].isnull().sum()\n",
    "# print(\"Nulls:\", NullCount)\n",
    "\n",
    "# # Visual Inspection\n",
    "# print(df_phish.head(10))\n",
    "# print(df_phish.tail(20))\n"
   ]
  },
  {
   "cell_type": "code",
   "execution_count": 55,
   "metadata": {},
   "outputs": [
    {
     "name": "stdout",
     "output_type": "stream",
     "text": [
      "(18634, 2)\n",
      "Number of non-string values in 'Email Text': 0\n",
      "(18634, 2)\n"
     ]
    }
   ],
   "source": [
    "# # Check if each \"Email Text\" is type string\n",
    "# print(df_phish.shape)\n",
    "# # Check if each \"Email Text\" is type string\n",
    "# is_string = df_phish[\"Email Text\"].apply(lambda x: isinstance(x, str))\n",
    "# print(\"Number of non-string values in 'Email Text':\", (~is_string).sum())\n",
    "# print(df_phish.shape)"
   ]
  },
  {
   "cell_type": "code",
   "execution_count": 56,
   "metadata": {},
   "outputs": [
    {
     "name": "stdout",
     "output_type": "stream",
     "text": [
      "Number of 'empty' emails: 533\n",
      "Number of 'empty' emails: 0\n"
     ]
    }
   ],
   "source": [
    "#Get count of 'empty' emails\n",
    "# empty_email_count = df_phish['Email Text'].str.lower().eq('empty').sum()\n",
    "# print(f\"Number of 'empty' emails: {empty_email_count}\")\n",
    "# #Remove those 'empty' emails from the dataframe\n",
    "# df_phish_cleaned = df_phish[df_phish['Email Text'].str.lower() != 'empty']\n",
    "# df_phish_cleaned.shape\n",
    "# empty_email_count = df_phish_cleaned['Email Text'].str.lower().eq('empty').sum()\n",
    "# print(f\"Number of 'empty' emails: {empty_email_count}\")\n",
    "# df_phish = df_phish_cleaned"
   ]
  },
  {
   "cell_type": "markdown",
   "metadata": {},
   "source": [
    "## Feature Extraction"
   ]
  },
  {
   "cell_type": "markdown",
   "metadata": {},
   "source": [
    "### Emails with \"re:\""
   ]
  },
  {
   "cell_type": "code",
   "execution_count": 5,
   "metadata": {},
   "outputs": [
    {
     "name": "stdout",
     "output_type": "stream",
     "text": [
      "                                              Email Text      Email Type\n",
      "18644  \\r\\nRick Moen  a Ã©crit:> > I'm confused. I th...      Safe Email\n",
      "18645  date a lonely housewife always wanted to date ...  Phishing Email\n",
      "18646  request submitted : access request for anita ....      Safe Email\n",
      "18647  re : important - prc mtg hi dorn & john , as y...      Safe Email\n",
      "18648  press clippings - letter on californian utilit...      Safe Email\n",
      "0\n"
     ]
    }
   ],
   "source": [
    "df_phish = make_df()\n",
    "\n",
    "print(df_phish.tail(5))\n",
    "\n",
    "def countNaN(df):\n",
    "    return (df[\"Email Text\"] == \"NaN\").sum()\n",
    "\n",
    "print(countNaN(df_phish))"
   ]
  },
  {
   "cell_type": "code",
   "execution_count": 7,
   "metadata": {},
   "outputs": [
    {
     "name": "stdout",
     "output_type": "stream",
     "text": [
      "                                              Email Text      Email Type\n",
      "18627  crying mlcros 0 ft , symanntec , macromedia , ...  Phishing Email\n",
      "18628  Has anybody on the list installed/used this di...      Safe Email\n",
      "18629  re : 6 . 923 , sum : chomsky on letting the th...      Safe Email\n",
      "18630  s . hattori dies this is the english version o...      Safe Email\n",
      "18631  Update of /cvsroot/spamassassin/spamassassin\\r...      Safe Email\n",
      "18632  weekly deal report this is the weekly report c...      Safe Email\n",
      "18633  This article from NYTimes.com \\r\\nhas been sen...      Safe Email\n",
      "18634  congratulations you have won ! ! ! pls contact...  Phishing Email\n",
      "18635  On Fri, 4 Oct 2002, Mark Derricutt wrote:> Any...      Safe Email\n",
      "18636  prior month misnomination daren - - - - for 4 ...      Safe Email\n",
      "18638  strong buy alert : monthly newsletter topstock...  Phishing Email\n",
      "18639  out of office i have an appointment today and ...      Safe Email\n",
      "18640  list of english taboo words does anyone have a...      Safe Email\n",
      "18641  interview with the enron research group good m...      Safe Email\n",
      "18642  URL: http://diveintomark.org/archives/2002/09/...      Safe Email\n",
      "18644  \\r\\nRick Moen  a Ã©crit:> > I'm confused. I th...      Safe Email\n",
      "18645  date a lonely housewife always wanted to date ...  Phishing Email\n",
      "18646  request submitted : access request for anita ....      Safe Email\n",
      "18647  re : important - prc mtg hi dorn & john , as y...      Safe Email\n",
      "18648  press clippings - letter on californian utilit...      Safe Email\n",
      "                                              Email Text      Email Type  \\\n",
      "18627  crying mlcros 0 ft , symanntec , macromedia , ...  Phishing Email   \n",
      "18628  Has anybody on the list installed/used this di...      Safe Email   \n",
      "18629  re : 6 . 923 , sum : chomsky on letting the th...      Safe Email   \n",
      "18630  s . hattori dies this is the english version o...      Safe Email   \n",
      "18631  Update of /cvsroot/spamassassin/spamassassin\\r...      Safe Email   \n",
      "18632  weekly deal report this is the weekly report c...      Safe Email   \n",
      "18633  This article from NYTimes.com \\r\\nhas been sen...      Safe Email   \n",
      "18634  congratulations you have won ! ! ! pls contact...  Phishing Email   \n",
      "18635  On Fri, 4 Oct 2002, Mark Derricutt wrote:> Any...      Safe Email   \n",
      "18636  prior month misnomination daren - - - - for 4 ...      Safe Email   \n",
      "18638  strong buy alert : monthly newsletter topstock...  Phishing Email   \n",
      "18639  out of office i have an appointment today and ...      Safe Email   \n",
      "18640  list of english taboo words does anyone have a...      Safe Email   \n",
      "18641  interview with the enron research group good m...      Safe Email   \n",
      "18642  URL: http://diveintomark.org/archives/2002/09/...      Safe Email   \n",
      "18644  \\r\\nRick Moen  a Ã©crit:> > I'm confused. I th...      Safe Email   \n",
      "18645  date a lonely housewife always wanted to date ...  Phishing Email   \n",
      "18646  request submitted : access request for anita ....      Safe Email   \n",
      "18647  re : important - prc mtg hi dorn & john , as y...      Safe Email   \n",
      "18648  press clippings - letter on californian utilit...      Safe Email   \n",
      "\n",
      "       Is_Response  \n",
      "18627        False  \n",
      "18628        False  \n",
      "18629         True  \n",
      "18630        False  \n",
      "18631        False  \n",
      "18632        False  \n",
      "18633        False  \n",
      "18634        False  \n",
      "18635        False  \n",
      "18636        False  \n",
      "18638        False  \n",
      "18639        False  \n",
      "18640        False  \n",
      "18641        False  \n",
      "18642        False  \n",
      "18644        False  \n",
      "18645         True  \n",
      "18646        False  \n",
      "18647         True  \n",
      "18648        False  \n"
     ]
    }
   ],
   "source": [
    "print(df_phish.tail(20))\n",
    "# Adding \"Is_Response\" feature\n",
    "df_phish[\"Is_Response\"] = df_phish[\"Email Text\"].str.contains(\"re :\")\n",
    "print(df_phish.tail(20))"
   ]
  },
  {
   "cell_type": "code",
   "execution_count": 58,
   "metadata": {},
   "outputs": [
    {
     "data": {
      "text/plain": [
       "Is_Response\n",
       "False    0.866637\n",
       "True     0.133363\n",
       "Name: proportion, dtype: float64"
      ]
     },
     "execution_count": 58,
     "metadata": {},
     "output_type": "execute_result"
    }
   ],
   "source": [
    "df_phish[\"Is_Response\"].value_counts(normalize=True)"
   ]
  },
  {
   "cell_type": "markdown",
   "metadata": {},
   "source": [
    "### Emails with links"
   ]
  },
  {
   "cell_type": "code",
   "execution_count": 9,
   "metadata": {},
   "outputs": [
    {
     "name": "stdout",
     "output_type": "stream",
     "text": [
      "                                              Email Text      Email Type  \\\n",
      "18644  \\r\\nRick Moen  a Ã©crit:> > I'm confused. I th...      Safe Email   \n",
      "18645  date a lonely housewife always wanted to date ...  Phishing Email   \n",
      "18646  request submitted : access request for anita ....      Safe Email   \n",
      "18647  re : important - prc mtg hi dorn & john , as y...      Safe Email   \n",
      "18648  press clippings - letter on californian utilit...      Safe Email   \n",
      "\n",
      "       Is_Response  Has_WebLink  \n",
      "18644        False         True  \n",
      "18645         True        False  \n",
      "18646        False        False  \n",
      "18647         True        False  \n",
      "18648        False        False  \n"
     ]
    },
    {
     "name": "stderr",
     "output_type": "stream",
     "text": [
      "C:\\Users\\jakos\\Documents\\Visual Studio Code\\data\\tmp\\ipykernel_16076\\4288188749.py:5: UserWarning: This pattern is interpreted as a regular expression, and has match groups. To actually get the groups, use str.extract.\n",
      "  df_phish[\"Has_WebLink\"] = df_phish[\"Email Text\"].str.contains('(https?://|www.)')\n"
     ]
    },
    {
     "name": "stdout",
     "output_type": "stream",
     "text": [
      "                                              Email Text      Email Type  \\\n",
      "18644  \\r\\nRick Moen  a Ã©crit:> > I'm confused. I th...      Safe Email   \n",
      "18645  date a lonely housewife always wanted to date ...  Phishing Email   \n",
      "18646  request submitted : access request for anita ....      Safe Email   \n",
      "18647  re : important - prc mtg hi dorn & john , as y...      Safe Email   \n",
      "18648  press clippings - letter on californian utilit...      Safe Email   \n",
      "\n",
      "       Is_Response  Has_WebLink  \n",
      "18644        False         True  \n",
      "18645         True         True  \n",
      "18646        False        False  \n",
      "18647         True        False  \n",
      "18648        False        False  \n"
     ]
    }
   ],
   "source": [
    "# This is causing columns to turn into NaN values and losing data.\n",
    "\n",
    "print(df_phish.tail(5))\n",
    "# Adding \"Has_WebLink\" column\n",
    "df_phish[\"Has_WebLink\"] = df_phish[\"Email Text\"].str.contains('(https?://|www.)')\n",
    "\n",
    "print(df_phish.tail(5))\n",
    "    "
   ]
  },
  {
   "cell_type": "code",
   "execution_count": 60,
   "metadata": {},
   "outputs": [
    {
     "data": {
      "text/plain": [
       "Has_WebLink\n",
       "False    0.769184\n",
       "True     0.230816\n",
       "Name: proportion, dtype: float64"
      ]
     },
     "execution_count": 60,
     "metadata": {},
     "output_type": "execute_result"
    }
   ],
   "source": [
    "df_phish[\"Has_WebLink\"].value_counts(normalize=True)"
   ]
  },
  {
   "cell_type": "markdown",
   "metadata": {},
   "source": [
    "### Email Length"
   ]
  },
  {
   "cell_type": "code",
   "execution_count": 62,
   "metadata": {},
   "outputs": [
    {
     "name": "stdout",
     "output_type": "stream",
     "text": [
      "                                              Email Text      Email Type  \\\n",
      "18644  \\r\\nRick Moen  a Ã©crit:> > I'm confused. I th...      Safe Email   \n",
      "18645  date a lonely housewife always wanted to date ...  Phishing Email   \n",
      "18646  request submitted : access request for anita ....      Safe Email   \n",
      "18647  re : important - prc mtg hi dorn & john , as y...      Safe Email   \n",
      "18648  press clippings - letter on californian utilit...      Safe Email   \n",
      "\n",
      "       Is_Response  Has_WebLink  Email_Length  \n",
      "18644        False         True          4510  \n",
      "18645         True        False           237  \n",
      "18646        False        False           477  \n",
      "18647         True        False          1214  \n",
      "18648        False        False           213  \n",
      "                                              Email Text      Email Type  \\\n",
      "18644  \\r\\nRick Moen  a Ã©crit:> > I'm confused. I th...      Safe Email   \n",
      "18645  date a lonely housewife always wanted to date ...  Phishing Email   \n",
      "18646  request submitted : access request for anita ....      Safe Email   \n",
      "18647  re : important - prc mtg hi dorn & john , as y...      Safe Email   \n",
      "18648  press clippings - letter on californian utilit...      Safe Email   \n",
      "\n",
      "       Is_Response  Has_WebLink  Email_Length  \n",
      "18644        False         True          4510  \n",
      "18645         True        False           237  \n",
      "18646        False        False           477  \n",
      "18647         True        False          1214  \n",
      "18648        False        False           213  \n"
     ]
    }
   ],
   "source": [
    "print(df_phish.tail(5))\n",
    "\n",
    "# Creating the Email Length Column\n",
    "df_phish[\"Email_Length\"] = df_phish[\"Email Text\"].str.len()\n",
    "    \n",
    "# Verifying it worked\n",
    "print(df_phish.tail(5))\n"
   ]
  },
  {
   "cell_type": "code",
   "execution_count": 63,
   "metadata": {},
   "outputs": [
    {
     "name": "stdout",
     "output_type": "stream",
     "text": [
      "                                              Email Text      Email Type  \\\n",
      "18638  strong buy alert : monthly newsletter topstock...  Phishing Email   \n",
      "18639  out of office i have an appointment today and ...      Safe Email   \n",
      "18640  list of english taboo words does anyone have a...      Safe Email   \n",
      "18641  interview with the enron research group good m...      Safe Email   \n",
      "18642  URL: http://diveintomark.org/archives/2002/09/...      Safe Email   \n",
      "18644  \\r\\nRick Moen  a Ã©crit:> > I'm confused. I th...      Safe Email   \n",
      "18645  date a lonely housewife always wanted to date ...  Phishing Email   \n",
      "18646  request submitted : access request for anita ....      Safe Email   \n",
      "18647  re : important - prc mtg hi dorn & john , as y...      Safe Email   \n",
      "18648  press clippings - letter on californian utilit...      Safe Email   \n",
      "\n",
      "       Is_Response  Has_WebLink  Email_Length  \n",
      "18638        False        False          7999  \n",
      "18639        False        False           256  \n",
      "18640        False        False           485  \n",
      "18641        False        False           637  \n",
      "18642        False         True           434  \n",
      "18644        False         True          4510  \n",
      "18645         True        False           237  \n",
      "18646        False        False           477  \n",
      "18647         True        False          1214  \n",
      "18648        False        False           213  \n",
      "                                              Email Text      Email Type  \\\n",
      "18638  strong buy alert : monthly newsletter topstock...  Phishing Email   \n",
      "18639  out of office i have an appointment today and ...      Safe Email   \n",
      "18640  list of english taboo words does anyone have a...      Safe Email   \n",
      "18641  interview with the enron research group good m...      Safe Email   \n",
      "18642  URL: http://diveintomark.org/archives/2002/09/...      Safe Email   \n",
      "18644  \\r\\nRick Moen  a Ã©crit:> > I'm confused. I th...      Safe Email   \n",
      "18645  date a lonely housewife always wanted to date ...  Phishing Email   \n",
      "18646  request submitted : access request for anita ....      Safe Email   \n",
      "18647  re : important - prc mtg hi dorn & john , as y...      Safe Email   \n",
      "18648  press clippings - letter on californian utilit...      Safe Email   \n",
      "\n",
      "       Is_Response  Has_WebLink  Email_Length  Hypen_Count  Pound_Count  \\\n",
      "18638        False        False          7999           13            0   \n",
      "18639        False        False           256            0            0   \n",
      "18640        False        False           485            3            0   \n",
      "18641        False        False           637            2            0   \n",
      "18642        False         True           434            3            1   \n",
      "18644        False         True          4510           16            0   \n",
      "18645         True        False           237            0            0   \n",
      "18646        False        False           477            1            0   \n",
      "18647         True        False          1214            2            0   \n",
      "18648        False        False           213            2            0   \n",
      "\n",
      "       At_Count  \n",
      "18638         0  \n",
      "18639         0  \n",
      "18640         0  \n",
      "18641         0  \n",
      "18642         0  \n",
      "18644         3  \n",
      "18645         0  \n",
      "18646         3  \n",
      "18647         0  \n",
      "18648         0  \n"
     ]
    }
   ],
   "source": [
    "print(df_phish.tail(10))\n",
    "\n",
    "df_phish[\"Hypen_Count\"] = df_phish[\"Email Text\"].str.count(r\"-\")\n",
    "df_phish[\"Pound_Count\"] = df_phish[\"Email Text\"].str.count(r\"#\")\n",
    "df_phish[\"At_Count\"] = df_phish[\"Email Text\"].str.count(r\"@\")\n",
    "\n",
    "print(df_phish.tail(10))"
   ]
  },
  {
   "cell_type": "code",
   "execution_count": 9,
   "metadata": {},
   "outputs": [
    {
     "name": "stdout",
     "output_type": "stream",
     "text": [
      "                                              Email Text      Email Type  \\\n",
      "18638  strong buy alert : monthly newsletter topstock...  Phishing Email   \n",
      "18639  out of office i have an appointment today and ...      Safe Email   \n",
      "18640  list of english taboo words does anyone have a...      Safe Email   \n",
      "18641  interview with the enron research group good m...      Safe Email   \n",
      "18642  URL: http://diveintomark.org/archives/2002/09/...      Safe Email   \n",
      "18644  \\r\\nRick Moen  a Ã©crit:> > I'm confused. I th...      Safe Email   \n",
      "18645  date a lonely housewife always wanted to date ...  Phishing Email   \n",
      "18646  request submitted : access request for anita ....      Safe Email   \n",
      "18647  re : important - prc mtg hi dorn & john , as y...      Safe Email   \n",
      "18648  press clippings - letter on californian utilit...      Safe Email   \n",
      "\n",
      "       Exclamation_Count  Question_Count  Period_Count  \n",
      "18638                  1               0            57  \n",
      "18639                  0               0             4  \n",
      "18640                  0               1             6  \n",
      "18641                  0               0             6  \n",
      "18642                  0               0             8  \n",
      "18644                  4              10            60  \n",
      "18645                  0               1             5  \n",
      "18646                  0               0             8  \n",
      "18647                  1               1            11  \n",
      "18648                  0               0             0  \n",
      "                                              Email Text      Email Type  \\\n",
      "18638  strong buy alert : monthly newsletter topstock...  Phishing Email   \n",
      "18639  out of office i have an appointment today and ...      Safe Email   \n",
      "18640  list of english taboo words does anyone have a...      Safe Email   \n",
      "18641  interview with the enron research group good m...      Safe Email   \n",
      "18642  URL: http://diveintomark.org/archives/2002/09/...      Safe Email   \n",
      "18644  \\r\\nRick Moen  a Ã©crit:> > I'm confused. I th...      Safe Email   \n",
      "18645  date a lonely housewife always wanted to date ...  Phishing Email   \n",
      "18646  request submitted : access request for anita ....      Safe Email   \n",
      "18647  re : important - prc mtg hi dorn & john , as y...      Safe Email   \n",
      "18648  press clippings - letter on californian utilit...      Safe Email   \n",
      "\n",
      "       Exclamation_Count  Question_Count  Period_Count  \n",
      "18638                  1               0            57  \n",
      "18639                  0               0             4  \n",
      "18640                  0               1             6  \n",
      "18641                  0               0             6  \n",
      "18642                  0               0             8  \n",
      "18644                  4              10            60  \n",
      "18645                  0               1             5  \n",
      "18646                  0               0             8  \n",
      "18647                  1               1            11  \n",
      "18648                  0               0             0  \n"
     ]
    }
   ],
   "source": [
    "print(df_phish.tail(10))\n",
    "\n",
    "df_phish[\"Exclamation_Count\"] = df_phish[\"Email Text\"].str.count(r\"!\")\n",
    "df_phish[\"Question_Count\"] = df_phish[\"Email Text\"].str.count(r\"\\?\")\n",
    "df_phish[\"Period_Count\"] = df_phish[\"Email Text\"].str.count(r\"\\.\")\n",
    "\n",
    "print(df_phish.tail(10))"
   ]
  },
  {
   "cell_type": "markdown",
   "metadata": {},
   "source": [
    "### Emails with All-Caps characters over a certain percent threshold (8%) to determine safe or phishing emails"
   ]
  },
  {
   "cell_type": "code",
   "execution_count": null,
   "metadata": {},
   "outputs": [],
   "source": [
    "#writing a function that calculates the percent of upper and lowercase characters in an email\n",
    "\n",
    "def percent_of_all_caps(text):\n",
    "    if not text or not isinstance(text, str):\n",
    "        return 0\n",
    "    #getting rid of special characters from check for all-caps\n",
    "    alphanumeric_text = re.sub(r'[^A-Za-z0-9]','',text)\n",
    "    num_all_caps =  sum(1 for c in alphanumeric_text if c.isupper())\n",
    "    num_total_characters = len(alphanumeric_text)\n",
    "    #prevent divide by 0\n",
    "    if(num_total_characters == 0):\n",
    "        return 0\n",
    "    percent_all_caps = (num_all_caps/num_total_characters)*100\n",
    "    return percent_all_caps\n",
    "\n",
    "#creating a new column in dataframe for percentage of capitalization and marking emails as safe or phishing\n",
    "df_phish['Capitalization_Percent'] = df_phish['Email Text'].apply(percent_of_all_caps)\n",
    "\n",
    "# I dont want to assume a percentage value that would be indicative of a phishing email or not just based on capitalization percentage.\n",
    "# We should let the model determine that or make a graph showing at different percentages, what proportion of emails were correctly identified as phishing.\n",
    "# df_phish['Is Phishing'] = df_phish['Capitalization_Percent'] > 8    #initially had as 55, looked at exported cleaned data to adjust to 8\n",
    "\n",
    "#export in a CSV file to better compare my results on phishing classification vs. actual results\n",
    "# temp_df = df_phish[['Email Text', 'Email Type', 'Capitalization_Percent', 'Is Phishing']]\n",
    "#temp_df.to_csv('test.csv', index=False)\n",
    "#print(temp_df)"
   ]
  }
 ],
 "metadata": {
  "kernelspec": {
   "display_name": "Python 3",
   "language": "python",
   "name": "python3"
  },
  "language_info": {
   "codemirror_mode": {
    "name": "ipython",
    "version": 3
   },
   "file_extension": ".py",
   "mimetype": "text/x-python",
   "name": "python",
   "nbconvert_exporter": "python",
   "pygments_lexer": "ipython3",
   "version": "3.12.1"
  }
 },
 "nbformat": 4,
 "nbformat_minor": 2
}
