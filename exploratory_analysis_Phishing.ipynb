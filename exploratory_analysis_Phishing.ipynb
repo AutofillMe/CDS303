{
 "cells": [
  {
   "cell_type": "markdown",
   "metadata": {},
   "source": [
    "# Exploratory Analysis Phishing_Email.csv Group 3"
   ]
  },
  {
   "cell_type": "code",
   "execution_count": null,
   "metadata": {},
   "outputs": [],
   "source": [
    "# Potentionally helpful libraries:\n",
    "# pandas, matplotlib, seaborn, nltk, scikit-learn, gensim, pyLDAvis\n",
    "\n",
    "import pandas as pd\n",
    "import re"
   ]
  },
  {
   "cell_type": "code",
   "execution_count": null,
   "metadata": {},
   "outputs": [],
   "source": [
    "# Reading in the data\n",
    "df_phish = pd.read_csv(\"Phishing_Email.csv\")\n",
    "# Dropping the unecessary index row\n",
    "df_phish = df_phish.drop(df_phish.columns[0], axis=1)\n",
    "#checking that it read in correctly\n",
    "df_phish[0:10]"
   ]
  },
  {
   "cell_type": "code",
   "execution_count": null,
   "metadata": {},
   "outputs": [],
   "source": [
    "# Pulling out a few Emails as examples\n",
    "#for i in range(2):\n",
    "#    print(\"\\n\\nBEGIN NEW EMAIL:\")\n",
    "#    print(df_phish.loc[i+22,\"Email Text\"])\n",
    "\n",
    "\n"
   ]
  },
  {
   "cell_type": "markdown",
   "metadata": {},
   "source": [
    "## Data Cleaning"
   ]
  },
  {
   "cell_type": "code",
   "execution_count": null,
   "metadata": {},
   "outputs": [],
   "source": [
    "NullCount = df_phish[\"Email Text\"].isnull().sum()\n",
    "print(\"Nulls:\", NullCount)\n",
    "# Check for null values in the \"Email Text\" column\n",
    "null_mask = df_phish[\"Email Text\"].isnull()\n",
    "\n",
    "# If there are null values, drop the corresponding rows\n",
    "if null_mask.any():\n",
    "    df_phish = df_phish.drop(df_phish[null_mask].index)\n",
    "# Checking if null values were dropped\n",
    "NullCount = df_phish[\"Email Text\"].isnull().sum()\n",
    "print(\"Nulls:\", NullCount)\n",
    "\n",
    "# Visual Inspection\n",
    "print(df_phish.head(10))\n",
    "print(df_phish.tail(20))\n"
   ]
  },
  {
   "cell_type": "code",
   "execution_count": null,
   "metadata": {},
   "outputs": [],
   "source": [
    "# Check if each \"Email Text\" is type string\n",
    "print(df_phish.shape)\n",
    "# Check if each \"Email Text\" is type string\n",
    "is_string = df_phish[\"Email Text\"].apply(lambda x: isinstance(x, str))\n",
    "print(\"Number of non-string values in 'Email Text':\", (~is_string).sum())\n",
    "print(df_phish.shape)"
   ]
  },
  {
   "cell_type": "code",
   "execution_count": null,
   "metadata": {},
   "outputs": [],
   "source": [
    "#Get count of 'empty' emails\n",
    "empty_email_count = df_phish['Email Text'].str.lower().eq('empty').sum()\n",
    "print(f\"Number of 'empty' emails: {empty_email_count}\")\n",
    "#Remove those 'empty' emails from the dataframe\n",
    "#df_phish_cleaned = df_phish[df_phish['Email Text'].str.lower() != 'empty']\n",
    "#df_phish_cleaned"
   ]
  },
  {
   "cell_type": "markdown",
   "metadata": {},
   "source": [
    "## Feature Extraction"
   ]
  },
  {
   "cell_type": "markdown",
   "metadata": {},
   "source": [
    "### Emails with \"re:\""
   ]
  },
  {
   "cell_type": "code",
   "execution_count": null,
   "metadata": {},
   "outputs": [],
   "source": [
    "print(df_phish.tail(5))\n",
    "countNAN = df_phish[\"Email Text\"] == \"NaN\"\n",
    "print(countNAN.sum())\n",
    "# Adding \"Is_Response\" feature\n",
    "df_phish[\"Is_Response\"] = None\n",
    "# Looping over the DataFrame to determine \"Is_Response\"\n",
    "for i in range(df_phish.shape[0]):\n",
    "    has_re = re.search('re :', df_phish.iloc[i][\"Email Text\"])\n",
    "    df_phish.at[i, \"Is_Response\"] = bool(has_re)\n",
    "print(df_phish.tail(20))"
   ]
  },
  {
   "cell_type": "code",
   "execution_count": null,
   "metadata": {},
   "outputs": [],
   "source": [
    "df_phish[\"Is_Response\"].value_counts(normalize=True)"
   ]
  },
  {
   "cell_type": "markdown",
   "metadata": {},
   "source": [
    "### Emails with links"
   ]
  },
  {
   "cell_type": "code",
   "execution_count": null,
   "metadata": {},
   "outputs": [],
   "source": [
    "print(df_phish.tail(5))\n",
    "# Adding \"Has_WebLink\" and \"WebLink\" column\n",
    "df_phish[\"Has_WebLink\"] = None\n",
    "df_phish[\"WebLink\"] = None\n",
    "# Patterns to search for hyperlinks, This may need updating to include more patterns\n",
    "patterns = [r'https?://\\S+', r'www\\.\\S+']\n",
    "\n",
    "# Looping over the DataFrame\n",
    "for i in range(df_phish.shape[0]):\n",
    "    has_link = False\n",
    "    link = None\n",
    "    # Looping over each pattern\n",
    "    for pattern in patterns:\n",
    "        match = re.search(pattern, str(df_phish.iloc[i][\"Email Text\"]))\n",
    "        if match:\n",
    "            has_link = True\n",
    "            # write something here to record the link\n",
    "            link = match.group()\n",
    "            break  # Break the loop if any pattern is found\n",
    "    # Update the \"Has_WebLink\" column based on whether a link is found\n",
    "    df_phish.at[i, \"Has_WebLink\"] = has_link\n",
    "    df_phish.at[i, \"WebLink\"] = link\n",
    "print(df_phish.tail(5))\n",
    "    "
   ]
  },
  {
   "cell_type": "code",
   "execution_count": null,
   "metadata": {},
   "outputs": [],
   "source": [
    "df_phish[\"Has_WebLink\"].value_counts(normalize=True)"
   ]
  },
  {
   "cell_type": "markdown",
   "metadata": {},
   "source": [
    "### Email Length"
   ]
  },
  {
   "cell_type": "code",
   "execution_count": null,
   "metadata": {},
   "outputs": [],
   "source": [
    "# Creating the Email Length Column\n",
    "df_phish[\"Email_Length\"] = None\n",
    "for i in range(df_phish.shape[0]):\n",
    "    df_phish.at[i, \"Email_Length\"] = len(str(df_phish.iloc[i][\"Email Text\"]))\n",
    "    \n",
    "# Verifying it worked\n",
    "print(df_phish[\"Email_Length\"].tail(10))\n",
    "print(df_phish.tail(5))\n"
   ]
  }
 ],
 "metadata": {
  "kernelspec": {
   "display_name": "Python 3",
   "language": "python",
   "name": "python3"
  },
  "language_info": {
   "codemirror_mode": {
    "name": "ipython",
    "version": 3
   },
   "file_extension": ".py",
   "mimetype": "text/x-python",
   "name": "python",
   "nbconvert_exporter": "python",
   "pygments_lexer": "ipython3",
   "version": "3.11.2"
  }
 },
 "nbformat": 4,
 "nbformat_minor": 2
}
