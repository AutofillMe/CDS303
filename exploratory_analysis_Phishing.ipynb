{
 "cells": [
  {
   "cell_type": "markdown",
   "metadata": {},
   "source": [
    "# Exploratory Analysis Phishing_Email.csv Group 3"
   ]
  },
  {
   "cell_type": "code",
   "execution_count": 1,
   "metadata": {},
   "outputs": [],
   "source": [
    "# Potentionally helpful libraries:\n",
    "# pandas, matplotlib, seaborn, nltk, scikit-learn, gensim, pyLDAvis\n",
    "\n",
    "import pandas as pd\n",
    "import re"
   ]
  },
  {
   "cell_type": "code",
   "execution_count": 43,
   "metadata": {},
   "outputs": [
    {
     "data": {
      "text/html": [
       "<div>\n",
       "<style scoped>\n",
       "    .dataframe tbody tr th:only-of-type {\n",
       "        vertical-align: middle;\n",
       "    }\n",
       "\n",
       "    .dataframe tbody tr th {\n",
       "        vertical-align: top;\n",
       "    }\n",
       "\n",
       "    .dataframe thead th {\n",
       "        text-align: right;\n",
       "    }\n",
       "</style>\n",
       "<table border=\"1\" class=\"dataframe\">\n",
       "  <thead>\n",
       "    <tr style=\"text-align: right;\">\n",
       "      <th></th>\n",
       "      <th>Email Text</th>\n",
       "      <th>Email Type</th>\n",
       "    </tr>\n",
       "  </thead>\n",
       "  <tbody>\n",
       "    <tr>\n",
       "      <th>0</th>\n",
       "      <td>re : 6 . 1100 , disc : uniformitarianism , re ...</td>\n",
       "      <td>Safe Email</td>\n",
       "    </tr>\n",
       "    <tr>\n",
       "      <th>1</th>\n",
       "      <td>the other side of * galicismos * * galicismo *...</td>\n",
       "      <td>Safe Email</td>\n",
       "    </tr>\n",
       "    <tr>\n",
       "      <th>2</th>\n",
       "      <td>re : equistar deal tickets are you still avail...</td>\n",
       "      <td>Safe Email</td>\n",
       "    </tr>\n",
       "    <tr>\n",
       "      <th>3</th>\n",
       "      <td>\\r\\nHello I am your hot lil horny toy.\\r\\n    ...</td>\n",
       "      <td>Phishing Email</td>\n",
       "    </tr>\n",
       "    <tr>\n",
       "      <th>4</th>\n",
       "      <td>software at incredibly low prices ( 86 % lower...</td>\n",
       "      <td>Phishing Email</td>\n",
       "    </tr>\n",
       "    <tr>\n",
       "      <th>5</th>\n",
       "      <td>global risk management operations sally congra...</td>\n",
       "      <td>Safe Email</td>\n",
       "    </tr>\n",
       "    <tr>\n",
       "      <th>6</th>\n",
       "      <td>On Sun, Aug 11, 2002 at 11:17:47AM +0100, wint...</td>\n",
       "      <td>Safe Email</td>\n",
       "    </tr>\n",
       "    <tr>\n",
       "      <th>7</th>\n",
       "      <td>entourage , stockmogul newsletter ralph velez ...</td>\n",
       "      <td>Phishing Email</td>\n",
       "    </tr>\n",
       "    <tr>\n",
       "      <th>8</th>\n",
       "      <td>we owe you lots of money dear applicant , afte...</td>\n",
       "      <td>Phishing Email</td>\n",
       "    </tr>\n",
       "    <tr>\n",
       "      <th>9</th>\n",
       "      <td>re : coastal deal - with exxon participation u...</td>\n",
       "      <td>Safe Email</td>\n",
       "    </tr>\n",
       "  </tbody>\n",
       "</table>\n",
       "</div>"
      ],
      "text/plain": [
       "                                          Email Text      Email Type\n",
       "0  re : 6 . 1100 , disc : uniformitarianism , re ...      Safe Email\n",
       "1  the other side of * galicismos * * galicismo *...      Safe Email\n",
       "2  re : equistar deal tickets are you still avail...      Safe Email\n",
       "3  \\r\\nHello I am your hot lil horny toy.\\r\\n    ...  Phishing Email\n",
       "4  software at incredibly low prices ( 86 % lower...  Phishing Email\n",
       "5  global risk management operations sally congra...      Safe Email\n",
       "6  On Sun, Aug 11, 2002 at 11:17:47AM +0100, wint...      Safe Email\n",
       "7  entourage , stockmogul newsletter ralph velez ...  Phishing Email\n",
       "8  we owe you lots of money dear applicant , afte...  Phishing Email\n",
       "9  re : coastal deal - with exxon participation u...      Safe Email"
      ]
     },
     "execution_count": 43,
     "metadata": {},
     "output_type": "execute_result"
    }
   ],
   "source": [
    "# Reading in the data\n",
    "df_phish = pd.read_csv(\"Phishing_Email.csv\")\n",
    "# Dropping the unecessary index row\n",
    "df_phish = df_phish.drop(df_phish.columns[0], axis=1)\n",
    "#checking that it read in correctly\n",
    "df_phish[0:10]"
   ]
  },
  {
   "cell_type": "code",
   "execution_count": null,
   "metadata": {},
   "outputs": [],
   "source": [
    "# Pulling out a few Emails as examples\n",
    "#for i in range(2):\n",
    "#    print(\"\\n\\nBEGIN NEW EMAIL:\")\n",
    "#    print(df_phish.loc[i+22,\"Email Text\"])\n",
    "\n",
    "\n"
   ]
  },
  {
   "cell_type": "markdown",
   "metadata": {},
   "source": [
    "## Data Cleaning"
   ]
  },
  {
   "cell_type": "code",
   "execution_count": 45,
   "metadata": {},
   "outputs": [
    {
     "name": "stdout",
     "output_type": "stream",
     "text": [
      "Nulls: 0\n",
      "Nulls: 0\n",
      "                                          Email Text      Email Type\n",
      "0  re : 6 . 1100 , disc : uniformitarianism , re ...      Safe Email\n",
      "1  the other side of * galicismos * * galicismo *...      Safe Email\n",
      "2  re : equistar deal tickets are you still avail...      Safe Email\n",
      "3  \\r\\nHello I am your hot lil horny toy.\\r\\n    ...  Phishing Email\n",
      "4  software at incredibly low prices ( 86 % lower...  Phishing Email\n",
      "5  global risk management operations sally congra...      Safe Email\n",
      "6  On Sun, Aug 11, 2002 at 11:17:47AM +0100, wint...      Safe Email\n",
      "7  entourage , stockmogul newsletter ralph velez ...  Phishing Email\n",
      "8  we owe you lots of money dear applicant , afte...  Phishing Email\n",
      "9  re : coastal deal - with exxon participation u...      Safe Email\n",
      "                                              Email Text      Email Type\n",
      "18630  s . hattori dies this is the english version o...      Safe Email\n",
      "18631  Update of /cvsroot/spamassassin/spamassassin\\r...      Safe Email\n",
      "18632  weekly deal report this is the weekly report c...      Safe Email\n",
      "18633  This article from NYTimes.com \\r\\nhas been sen...      Safe Email\n",
      "18634  congratulations you have won ! ! ! pls contact...  Phishing Email\n",
      "18635  On Fri, 4 Oct 2002, Mark Derricutt wrote:> Any...      Safe Email\n",
      "18636  prior month misnomination daren - - - - for 4 ...      Safe Email\n",
      "18637                                              empty  Phishing Email\n",
      "18638  strong buy alert : monthly newsletter topstock...  Phishing Email\n",
      "18639  out of office i have an appointment today and ...      Safe Email\n",
      "18640  list of english taboo words does anyone have a...      Safe Email\n",
      "18641  interview with the enron research group good m...      Safe Email\n",
      "18642  URL: http://diveintomark.org/archives/2002/09/...      Safe Email\n",
      "18643                                              empty      Safe Email\n",
      "18644  \\r\\nRick Moen  a Ã©crit:> > I'm confused. I th...      Safe Email\n",
      "18645  date a lonely housewife always wanted to date ...  Phishing Email\n",
      "18646  request submitted : access request for anita ....      Safe Email\n",
      "18647  re : important - prc mtg hi dorn & john , as y...      Safe Email\n",
      "18648  press clippings - letter on californian utilit...      Safe Email\n",
      "18649                                              empty  Phishing Email\n"
     ]
    }
   ],
   "source": [
    "NullCount = df_phish[\"Email Text\"].isnull().sum()\n",
    "print(\"Nulls:\", NullCount)\n",
    "# Check for null values in the \"Email Text\" column\n",
    "null_mask = df_phish[\"Email Text\"].isnull()\n",
    "\n",
    "# If there are null values, drop the corresponding rows\n",
    "if null_mask.any():\n",
    "    df_phish = df_phish.drop(df_phish[null_mask].index)\n",
    "# Checking if null values were dropped\n",
    "NullCount = df_phish[\"Email Text\"].isnull().sum()\n",
    "print(\"Nulls:\", NullCount)\n",
    "\n",
    "# Visual Inspection\n",
    "print(df_phish.head(10))\n",
    "print(df_phish.tail(20))\n"
   ]
  },
  {
   "cell_type": "code",
   "execution_count": 46,
   "metadata": {},
   "outputs": [
    {
     "name": "stdout",
     "output_type": "stream",
     "text": [
      "(18634, 2)\n",
      "Number of non-string values in 'Email Text': 0\n",
      "(18634, 2)\n"
     ]
    }
   ],
   "source": [
    "# Check if each \"Email Text\" is type string\n",
    "print(df_phish.shape)\n",
    "# Check if each \"Email Text\" is type string\n",
    "is_string = df_phish[\"Email Text\"].apply(lambda x: isinstance(x, str))\n",
    "print(\"Number of non-string values in 'Email Text':\", (~is_string).sum())\n",
    "print(df_phish.shape)"
   ]
  },
  {
   "cell_type": "code",
   "execution_count": 47,
   "metadata": {},
   "outputs": [
    {
     "name": "stdout",
     "output_type": "stream",
     "text": [
      "Number of 'empty' emails: 533\n",
      "Number of 'empty' emails: 0\n"
     ]
    }
   ],
   "source": [
    "#Get count of 'empty' emails\n",
    "empty_email_count = df_phish['Email Text'].str.lower().eq('empty').sum()\n",
    "print(f\"Number of 'empty' emails: {empty_email_count}\")\n",
    "#Remove those 'empty' emails from the dataframe\n",
    "df_phish_cleaned = df_phish[df_phish['Email Text'].str.lower() != 'empty']\n",
    "df_phish_cleaned.shape\n",
    "empty_email_count = df_phish_cleaned['Email Text'].str.lower().eq('empty').sum()\n",
    "print(f\"Number of 'empty' emails: {empty_email_count}\")\n",
    "df_phish = df_phish_cleaned"
   ]
  },
  {
   "cell_type": "markdown",
   "metadata": {},
   "source": [
    "## Feature Extraction"
   ]
  },
  {
   "cell_type": "markdown",
   "metadata": {},
   "source": [
    "### Emails with \"re:\""
   ]
  },
  {
   "cell_type": "code",
   "execution_count": 48,
   "metadata": {},
   "outputs": [
    {
     "name": "stdout",
     "output_type": "stream",
     "text": [
      "                                              Email Text      Email Type\n",
      "18644  \\r\\nRick Moen  a Ã©crit:> > I'm confused. I th...      Safe Email\n",
      "18645  date a lonely housewife always wanted to date ...  Phishing Email\n",
      "18646  request submitted : access request for anita ....      Safe Email\n",
      "18647  re : important - prc mtg hi dorn & john , as y...      Safe Email\n",
      "18648  press clippings - letter on californian utilit...      Safe Email\n",
      "0\n"
     ]
    }
   ],
   "source": [
    "print(df_phish.tail(5))\n",
    "countNAN = df_phish[\"Email Text\"] == \"NaN\"\n",
    "print(countNAN.sum())"
   ]
  },
  {
   "cell_type": "code",
   "execution_count": 30,
   "metadata": {},
   "outputs": [
    {
     "name": "stdout",
     "output_type": "stream",
     "text": [
      "                                           Email Text      Email Type\n",
      "0   re : 6 . 1100 , disc : uniformitarianism , re ...      Safe Email\n",
      "1   the other side of * galicismos * * galicismo *...      Safe Email\n",
      "2   re : equistar deal tickets are you still avail...      Safe Email\n",
      "3   \\r\\nHello I am your hot lil horny toy.\\r\\n    ...  Phishing Email\n",
      "4   software at incredibly low prices ( 86 % lower...  Phishing Email\n",
      "5   global risk management operations sally congra...      Safe Email\n",
      "6   On Sun, Aug 11, 2002 at 11:17:47AM +0100, wint...      Safe Email\n",
      "7   entourage , stockmogul newsletter ralph velez ...  Phishing Email\n",
      "8   we owe you lots of money dear applicant , afte...  Phishing Email\n",
      "9   re : coastal deal - with exxon participation u...      Safe Email\n",
      "10  make her beg you to give it to her everynight ...  Phishing Email\n",
      "11  URL: http://www.newsisfree.com/click/-5,830431...      Safe Email\n",
      "12  begin forwarded text Date: Wed, 25 Sep 2002 13...      Safe Email\n",
      "13  re : fyi - wellhead portfolio who is considere...      Safe Email\n",
      "14  rmmla / ads * * * * * * * * papers solicited f...      Safe Email\n",
      "15  re : testing ir & fx var nick and winston , i ...      Safe Email\n",
      "16  The academic discipline of Software Engineerin...      Safe Email\n",
      "17  re : 3 . 402 queries : language - speakers , s...      Safe Email\n",
      "18  a resume john , this is a resume i received to...      Safe Email\n",
      "19  EFFector       Vol. 15, No. 35       November ...      Safe Email\n",
      "                                              Email Text      Email Type\n",
      "18627  crying mlcros 0 ft , symanntec , macromedia , ...  Phishing Email\n",
      "18628  Has anybody on the list installed/used this di...      Safe Email\n",
      "18629  re : 6 . 923 , sum : chomsky on letting the th...      Safe Email\n",
      "18630  s . hattori dies this is the english version o...      Safe Email\n",
      "18631  Update of /cvsroot/spamassassin/spamassassin\\r...      Safe Email\n",
      "18632  weekly deal report this is the weekly report c...      Safe Email\n",
      "18633  This article from NYTimes.com \\r\\nhas been sen...      Safe Email\n",
      "18634  congratulations you have won ! ! ! pls contact...  Phishing Email\n",
      "18635  On Fri, 4 Oct 2002, Mark Derricutt wrote:> Any...      Safe Email\n",
      "18636  prior month misnomination daren - - - - for 4 ...      Safe Email\n",
      "18638  strong buy alert : monthly newsletter topstock...  Phishing Email\n",
      "18639  out of office i have an appointment today and ...      Safe Email\n",
      "18640  list of english taboo words does anyone have a...      Safe Email\n",
      "18641  interview with the enron research group good m...      Safe Email\n",
      "18642  URL: http://diveintomark.org/archives/2002/09/...      Safe Email\n",
      "18644  \\r\\nRick Moen  a Ã©crit:> > I'm confused. I th...      Safe Email\n",
      "18645  date a lonely housewife always wanted to date ...  Phishing Email\n",
      "18646  request submitted : access request for anita ....      Safe Email\n",
      "18647  re : important - prc mtg hi dorn & john , as y...      Safe Email\n",
      "18648  press clippings - letter on californian utilit...      Safe Email\n",
      "                                           Email Text      Email Type  \\\n",
      "0   re : 6 . 1100 , disc : uniformitarianism , re ...      Safe Email   \n",
      "1   the other side of * galicismos * * galicismo *...      Safe Email   \n",
      "2   re : equistar deal tickets are you still avail...      Safe Email   \n",
      "3   \\r\\nHello I am your hot lil horny toy.\\r\\n    ...  Phishing Email   \n",
      "4   software at incredibly low prices ( 86 % lower...  Phishing Email   \n",
      "5   global risk management operations sally congra...      Safe Email   \n",
      "6   On Sun, Aug 11, 2002 at 11:17:47AM +0100, wint...      Safe Email   \n",
      "7   entourage , stockmogul newsletter ralph velez ...  Phishing Email   \n",
      "8   we owe you lots of money dear applicant , afte...  Phishing Email   \n",
      "9   re : coastal deal - with exxon participation u...      Safe Email   \n",
      "10  make her beg you to give it to her everynight ...  Phishing Email   \n",
      "11  URL: http://www.newsisfree.com/click/-5,830431...      Safe Email   \n",
      "12  begin forwarded text Date: Wed, 25 Sep 2002 13...      Safe Email   \n",
      "13  re : fyi - wellhead portfolio who is considere...      Safe Email   \n",
      "14  rmmla / ads * * * * * * * * papers solicited f...      Safe Email   \n",
      "15  re : testing ir & fx var nick and winston , i ...      Safe Email   \n",
      "16  The academic discipline of Software Engineerin...      Safe Email   \n",
      "17  re : 3 . 402 queries : language - speakers , s...      Safe Email   \n",
      "18  a resume john , this is a resume i received to...      Safe Email   \n",
      "19  EFFector       Vol. 15, No. 35       November ...      Safe Email   \n",
      "\n",
      "   Is_Response  \n",
      "0         True  \n",
      "1        False  \n",
      "2         True  \n",
      "3        False  \n",
      "4        False  \n",
      "5        False  \n",
      "6        False  \n",
      "7        False  \n",
      "8        False  \n",
      "9         True  \n",
      "10       False  \n",
      "11       False  \n",
      "12       False  \n",
      "13        True  \n",
      "14       False  \n",
      "15        True  \n",
      "16       False  \n",
      "17        True  \n",
      "18       False  \n",
      "19       False  \n",
      "      Email Text Email Type Is_Response\n",
      "17312        NaN        NaN       False\n",
      "17335        NaN        NaN        True\n",
      "17346        NaN        NaN        True\n",
      "17423        NaN        NaN       False\n",
      "17442        NaN        NaN       False\n",
      "17620        NaN        NaN       False\n",
      "17689        NaN        NaN       False\n",
      "17690        NaN        NaN       False\n",
      "17763        NaN        NaN       False\n",
      "17805        NaN        NaN       False\n",
      "17815        NaN        NaN       False\n",
      "17828        NaN        NaN       False\n",
      "17851        NaN        NaN       False\n",
      "17900        NaN        NaN       False\n",
      "17930        NaN        NaN        True\n",
      "17991        NaN        NaN       False\n",
      "18003        NaN        NaN       False\n",
      "18062        NaN        NaN       False\n",
      "18077        NaN        NaN       False\n",
      "18090        NaN        NaN       False\n"
     ]
    }
   ],
   "source": [
    "# This is causing columns to turn into NaN values and losing data.\n",
    "\n",
    "print(df_phish.tail(20))\n",
    "# Adding \"Is_Response\" feature\n",
    "df_phish[\"Is_Response\"] = None\n",
    "# Looping over the DataFrame to determine \"Is_Response\"\n",
    "for i in range(df_phish.shape[0]):\n",
    "    has_re = re.search('re :', df_phish.iloc[i][\"Email Text\"])\n",
    "    df_phish.at[i, \"Is_Response\"] = bool(has_re)\n",
    "print(df_phish.tail(20))"
   ]
  },
  {
   "cell_type": "code",
   "execution_count": 7,
   "metadata": {},
   "outputs": [
    {
     "data": {
      "text/plain": [
       "Is_Response\n",
       "False    0.870452\n",
       "True     0.129548\n",
       "Name: proportion, dtype: float64"
      ]
     },
     "execution_count": 7,
     "metadata": {},
     "output_type": "execute_result"
    }
   ],
   "source": [
    "df_phish[\"Is_Response\"].value_counts(normalize=True)"
   ]
  },
  {
   "cell_type": "markdown",
   "metadata": {},
   "source": [
    "### Emails with links"
   ]
  },
  {
   "cell_type": "code",
   "execution_count": 42,
   "metadata": {},
   "outputs": [
    {
     "name": "stdout",
     "output_type": "stream",
     "text": [
      "                                              Email Text      Email Type\n",
      "18644  \\r\\nRick Moen  a Ã©crit:> > I'm confused. I th...      Safe Email\n",
      "18645  date a lonely housewife always wanted to date ...  Phishing Email\n",
      "18646  request submitted : access request for anita ....      Safe Email\n",
      "18647  re : important - prc mtg hi dorn & john , as y...      Safe Email\n",
      "18648  press clippings - letter on californian utilit...      Safe Email\n",
      "      Email Text Email Type Has_WebLink  \\\n",
      "17991        NaN        NaN        True   \n",
      "18003        NaN        NaN       False   \n",
      "18062        NaN        NaN       False   \n",
      "18077        NaN        NaN       False   \n",
      "18090        NaN        NaN       False   \n",
      "\n",
      "                                                WebLink  \n",
      "17991  http://www.newsisfree.com/click/-1,8390119,1717/  \n",
      "18003                                              None  \n",
      "18062                                              None  \n",
      "18077                                              None  \n",
      "18090                                              None  \n"
     ]
    }
   ],
   "source": [
    "# This is causing columns to turn into NaN values and losing data.\n",
    "\n",
    "print(df_phish.tail(5))\n",
    "# Adding \"Has_WebLink\" and \"WebLink\" column\n",
    "df_phish[\"Has_WebLink\"] = None\n",
    "df_phish[\"WebLink\"] = None\n",
    "# Patterns to search for hyperlinks, This may need updating to include more patterns\n",
    "patterns = [r'https?://\\S+', r'www\\.\\S+']\n",
    "\n",
    "# Looping over the DataFrame\n",
    "for i in range(df_phish.shape[0]):\n",
    "    has_link = False\n",
    "    link = None\n",
    "    # Looping over each pattern\n",
    "    for pattern in patterns:\n",
    "        match = re.search(pattern, str(df_phish.iloc[i][\"Email Text\"]))\n",
    "        if match:\n",
    "            has_link = True\n",
    "            # write something here to record the link\n",
    "            link = match.group()\n",
    "            break  # Break the loop if any pattern is found\n",
    "    # Update the \"Has_WebLink\" column based on whether a link is found\n",
    "    df_phish.at[i, \"Has_WebLink\"] = has_link\n",
    "    df_phish.at[i, \"WebLink\"] = link\n",
    "print(df_phish.tail(5))\n",
    "    "
   ]
  },
  {
   "cell_type": "code",
   "execution_count": 9,
   "metadata": {},
   "outputs": [
    {
     "data": {
      "text/plain": [
       "Has_WebLink\n",
       "False    0.775979\n",
       "True     0.224021\n",
       "Name: proportion, dtype: float64"
      ]
     },
     "execution_count": 9,
     "metadata": {},
     "output_type": "execute_result"
    }
   ],
   "source": [
    "df_phish[\"Has_WebLink\"].value_counts(normalize=True)"
   ]
  },
  {
   "cell_type": "markdown",
   "metadata": {},
   "source": [
    "### Email Length"
   ]
  },
  {
   "cell_type": "code",
   "execution_count": 50,
   "metadata": {},
   "outputs": [
    {
     "name": "stdout",
     "output_type": "stream",
     "text": [
      "      Email Text Email Type Email_Length\n",
      "17991        NaN        NaN          162\n",
      "18003        NaN        NaN          426\n",
      "18062        NaN        NaN           23\n",
      "18077        NaN        NaN         1018\n",
      "18090        NaN        NaN          319\n",
      "18391    3\n",
      "18404    3\n",
      "18419    3\n",
      "18452    3\n",
      "18493    3\n",
      "18519    3\n",
      "18533    3\n",
      "18577    3\n",
      "18607    3\n",
      "18626    3\n",
      "Name: Email_Length, dtype: object\n",
      "      Email Text Email Type Email_Length\n",
      "18519        NaN        NaN            3\n",
      "18533        NaN        NaN            3\n",
      "18577        NaN        NaN            3\n",
      "18607        NaN        NaN            3\n",
      "18626        NaN        NaN            3\n"
     ]
    }
   ],
   "source": [
    "print(df_phish.tail(5))\n",
    "# Creating the Email Length Column\n",
    "df_phish[\"Email_Length\"] = None\n",
    "for i in range(df_phish.shape[0]):\n",
    "    df_phish.at[i, \"Email_Length\"] = len(str(df_phish.iloc[i][\"Email Text\"]))\n",
    "    \n",
    "# Verifying it worked\n",
    "print(df_phish[\"Email_Length\"].tail(10))\n",
    "print(df_phish.tail(5))\n"
   ]
  }
 ],
 "metadata": {
  "kernelspec": {
   "display_name": "Python 3",
   "language": "python",
   "name": "python3"
  },
  "language_info": {
   "codemirror_mode": {
    "name": "ipython",
    "version": 3
   },
   "file_extension": ".py",
   "mimetype": "text/x-python",
   "name": "python",
   "nbconvert_exporter": "python",
   "pygments_lexer": "ipython3",
   "version": "3.12.1"
  }
 },
 "nbformat": 4,
 "nbformat_minor": 2
}
