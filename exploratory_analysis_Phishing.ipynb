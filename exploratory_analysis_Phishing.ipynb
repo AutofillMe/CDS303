{
 "cells": [
  {
   "cell_type": "markdown",
   "metadata": {},
   "source": [
    "# Exploratory Analysis Phishing_Email.csv Group 3"
   ]
  },
  {
   "cell_type": "code",
   "execution_count": 1,
   "metadata": {},
   "outputs": [],
   "source": [
    "# Potentionally helpful libraries:\n",
    "# pandas, matplotlib, seaborn, nltk, scikit-learn, gensim, pyLDAvis\n",
    "\n",
    "import pandas as pd\n",
    "import re"
   ]
  },
  {
   "cell_type": "code",
   "execution_count": 2,
   "metadata": {},
   "outputs": [
    {
     "data": {
      "text/html": [
       "<div>\n",
       "<style scoped>\n",
       "    .dataframe tbody tr th:only-of-type {\n",
       "        vertical-align: middle;\n",
       "    }\n",
       "\n",
       "    .dataframe tbody tr th {\n",
       "        vertical-align: top;\n",
       "    }\n",
       "\n",
       "    .dataframe thead th {\n",
       "        text-align: right;\n",
       "    }\n",
       "</style>\n",
       "<table border=\"1\" class=\"dataframe\">\n",
       "  <thead>\n",
       "    <tr style=\"text-align: right;\">\n",
       "      <th></th>\n",
       "      <th>Email Text</th>\n",
       "      <th>Email Type</th>\n",
       "    </tr>\n",
       "  </thead>\n",
       "  <tbody>\n",
       "    <tr>\n",
       "      <th>0</th>\n",
       "      <td>re : 6 . 1100 , disc : uniformitarianism , re ...</td>\n",
       "      <td>Safe Email</td>\n",
       "    </tr>\n",
       "    <tr>\n",
       "      <th>1</th>\n",
       "      <td>the other side of * galicismos * * galicismo *...</td>\n",
       "      <td>Safe Email</td>\n",
       "    </tr>\n",
       "    <tr>\n",
       "      <th>2</th>\n",
       "      <td>re : equistar deal tickets are you still avail...</td>\n",
       "      <td>Safe Email</td>\n",
       "    </tr>\n",
       "    <tr>\n",
       "      <th>3</th>\n",
       "      <td>\\nHello I am your hot lil horny toy.\\n    I am...</td>\n",
       "      <td>Phishing Email</td>\n",
       "    </tr>\n",
       "    <tr>\n",
       "      <th>4</th>\n",
       "      <td>software at incredibly low prices ( 86 % lower...</td>\n",
       "      <td>Phishing Email</td>\n",
       "    </tr>\n",
       "    <tr>\n",
       "      <th>5</th>\n",
       "      <td>global risk management operations sally congra...</td>\n",
       "      <td>Safe Email</td>\n",
       "    </tr>\n",
       "    <tr>\n",
       "      <th>6</th>\n",
       "      <td>On Sun, Aug 11, 2002 at 11:17:47AM +0100, wint...</td>\n",
       "      <td>Safe Email</td>\n",
       "    </tr>\n",
       "    <tr>\n",
       "      <th>7</th>\n",
       "      <td>entourage , stockmogul newsletter ralph velez ...</td>\n",
       "      <td>Phishing Email</td>\n",
       "    </tr>\n",
       "    <tr>\n",
       "      <th>8</th>\n",
       "      <td>we owe you lots of money dear applicant , afte...</td>\n",
       "      <td>Phishing Email</td>\n",
       "    </tr>\n",
       "    <tr>\n",
       "      <th>9</th>\n",
       "      <td>re : coastal deal - with exxon participation u...</td>\n",
       "      <td>Safe Email</td>\n",
       "    </tr>\n",
       "  </tbody>\n",
       "</table>\n",
       "</div>"
      ],
      "text/plain": [
       "                                          Email Text      Email Type\n",
       "0  re : 6 . 1100 , disc : uniformitarianism , re ...      Safe Email\n",
       "1  the other side of * galicismos * * galicismo *...      Safe Email\n",
       "2  re : equistar deal tickets are you still avail...      Safe Email\n",
       "3  \\nHello I am your hot lil horny toy.\\n    I am...  Phishing Email\n",
       "4  software at incredibly low prices ( 86 % lower...  Phishing Email\n",
       "5  global risk management operations sally congra...      Safe Email\n",
       "6  On Sun, Aug 11, 2002 at 11:17:47AM +0100, wint...      Safe Email\n",
       "7  entourage , stockmogul newsletter ralph velez ...  Phishing Email\n",
       "8  we owe you lots of money dear applicant , afte...  Phishing Email\n",
       "9  re : coastal deal - with exxon participation u...      Safe Email"
      ]
     },
     "execution_count": 2,
     "metadata": {},
     "output_type": "execute_result"
    }
   ],
   "source": [
    "# Reading in the data\n",
    "df_phish = pd.read_csv(\"Phishing_Email.csv\")\n",
    "# Dropping the unecessary index row\n",
    "df_phish = df_phish.drop(df_phish.columns[0], axis=1)\n",
    "#checking that it read in correctly\n",
    "df_phish[0:10]"
   ]
  },
  {
   "cell_type": "code",
   "execution_count": 3,
   "metadata": {},
   "outputs": [
    {
     "name": "stdout",
     "output_type": "stream",
     "text": [
      "\n",
      "\n",
      "BEGIN NEW EMAIL:\n",
      "\n",
      "Question?Do you want a different job?\n",
      "Do you want to be your own boss?\n",
      "Do you need extra income?\n",
      "Do you need to start a new life?\n",
      "Does your current job seem to go nowhere?If you answered yes to these questions, then here is your solution.We are a fortune 500 company looking for motivated individuals who are \n",
      "looking\n",
      "to a substantial income working from home.Thousands of individual are currently do this RIGHT NOW.\n",
      "So if you are looking to be employed at home, with a career that will\n",
      "provide you vast opportunities and a substantial income, please fill\n",
      "out our online information request form here now:http://ter.netblah.com:27000To miss out on this opportunity, click herehttp://ter.netblah.com:27000/remove.html\n",
      "\n",
      "\n",
      "\n",
      "BEGIN NEW EMAIL:\n",
      "URL: http://www.livejournal.com/talkread.bml?journal=jwz&itemid=63309\n",
      "Date: Not suppliedhttp://www.livejournal.com/talkread.bml?journal=jwz&itemid=63309\n",
      "\n"
     ]
    }
   ],
   "source": [
    "# Pulling out a few Emails as examples\n",
    "#for i in range(2):\n",
    "#    print(\"\\n\\nBEGIN NEW EMAIL:\")\n",
    "#    print(df_phish.loc[i+22,\"Email Text\"])\n",
    "\n",
    "\n"
   ]
  },
  {
   "cell_type": "markdown",
   "metadata": {},
   "source": [
    "## Data Cleaning"
   ]
  },
  {
   "cell_type": "code",
   "execution_count": 4,
   "metadata": {},
   "outputs": [
    {
     "name": "stdout",
     "output_type": "stream",
     "text": [
      "Nulls: 16\n",
      "Nulls: 0\n",
      "                                          Email Text      Email Type\n",
      "0  re : 6 . 1100 , disc : uniformitarianism , re ...      Safe Email\n",
      "1  the other side of * galicismos * * galicismo *...      Safe Email\n",
      "2  re : equistar deal tickets are you still avail...      Safe Email\n",
      "3  \\nHello I am your hot lil horny toy.\\n    I am...  Phishing Email\n",
      "4  software at incredibly low prices ( 86 % lower...  Phishing Email\n",
      "5  global risk management operations sally congra...      Safe Email\n",
      "6  On Sun, Aug 11, 2002 at 11:17:47AM +0100, wint...      Safe Email\n",
      "7  entourage , stockmogul newsletter ralph velez ...  Phishing Email\n",
      "8  we owe you lots of money dear applicant , afte...  Phishing Email\n",
      "9  re : coastal deal - with exxon participation u...      Safe Email\n",
      "                                              Email Text      Email Type\n",
      "18630  s . hattori dies this is the english version o...      Safe Email\n",
      "18631  Update of /cvsroot/spamassassin/spamassassin\\n...      Safe Email\n",
      "18632  weekly deal report this is the weekly report c...      Safe Email\n",
      "18633  This article from NYTimes.com \\nhas been sent ...      Safe Email\n",
      "18634  congratulations you have won ! ! ! pls contact...  Phishing Email\n",
      "18635  On Fri, 4 Oct 2002, Mark Derricutt wrote:> Any...      Safe Email\n",
      "18636  prior month misnomination daren - - - - for 4 ...      Safe Email\n",
      "18637                                              empty  Phishing Email\n",
      "18638  strong buy alert : monthly newsletter topstock...  Phishing Email\n",
      "18639  out of office i have an appointment today and ...      Safe Email\n",
      "18640  list of english taboo words does anyone have a...      Safe Email\n",
      "18641  interview with the enron research group good m...      Safe Email\n",
      "18642  URL: http://diveintomark.org/archives/2002/09/...      Safe Email\n",
      "18643                                              empty      Safe Email\n",
      "18644  \\nRick Moen  a Ã©crit:> > I'm confused. I thou...      Safe Email\n",
      "18645  date a lonely housewife always wanted to date ...  Phishing Email\n",
      "18646  request submitted : access request for anita ....      Safe Email\n",
      "18647  re : important - prc mtg hi dorn & john , as y...      Safe Email\n",
      "18648  press clippings - letter on californian utilit...      Safe Email\n",
      "18649                                              empty  Phishing Email\n"
     ]
    }
   ],
   "source": [
    "NullCount = df_phish[\"Email Text\"].isnull().sum()\n",
    "print(\"Nulls:\", NullCount)\n",
    "# Check for null values in the \"Email Text\" column\n",
    "null_mask = df_phish[\"Email Text\"].isnull()\n",
    "\n",
    "# If there are null values, drop the corresponding rows\n",
    "if null_mask.any():\n",
    "    df_phish = df_phish.drop(df_phish[null_mask].index)\n",
    "# Checking if null values were dropped\n",
    "NullCount = df_phish[\"Email Text\"].isnull().sum()\n",
    "print(\"Nulls:\", NullCount)\n",
    "\n",
    "# Visual Inspection\n",
    "print(df_phish.head(10))\n",
    "print(df_phish.tail(20))\n"
   ]
  },
  {
   "cell_type": "code",
   "execution_count": 9,
   "metadata": {},
   "outputs": [
    {
     "name": "stdout",
     "output_type": "stream",
     "text": [
      "(18650, 3)\n",
      "(18650, 3)\n"
     ]
    }
   ],
   "source": [
    "# Check if each \"Email Text\" is type string\n",
    "print(df_phish.shape)\n",
    "\n",
    "print(df_phish.shape)"
   ]
  },
  {
   "cell_type": "code",
   "execution_count": 5,
   "metadata": {},
   "outputs": [
    {
     "name": "stdout",
     "output_type": "stream",
     "text": [
      "Number of 'empty' emails: 533\n"
     ]
    }
   ],
   "source": [
    "#Get count of 'empty' emails\n",
    "empty_email_count = df_phish['Email Text'].str.lower().eq('empty').sum()\n",
    "print(f\"Number of 'empty' emails: {empty_email_count}\")\n",
    "#Remove those 'empty' emails from the dataframe\n",
    "#df_phish_cleaned = df_phish[df_phish['Email Text'].str.lower() != 'empty']\n",
    "#df_phish_cleaned"
   ]
  },
  {
   "cell_type": "markdown",
   "metadata": {},
   "source": [
    "## Feature Extraction"
   ]
  },
  {
   "cell_type": "markdown",
   "metadata": {},
   "source": [
    "### Emails with \"re:\""
   ]
  },
  {
   "cell_type": "code",
   "execution_count": 7,
   "metadata": {},
   "outputs": [
    {
     "name": "stdout",
     "output_type": "stream",
     "text": [
      "      Email Text Email Type Is_Response\n",
      "8594         NaN        NaN        True\n",
      "9999         NaN        NaN       False\n",
      "11069        NaN        NaN       False\n",
      "11320        NaN        NaN       False\n",
      "13843        NaN        NaN       False\n",
      "0\n"
     ]
    },
    {
     "ename": "TypeError",
     "evalue": "expected string or bytes-like object, got 'float'",
     "output_type": "error",
     "traceback": [
      "\u001b[1;31m---------------------------------------------------------------------------\u001b[0m",
      "\u001b[1;31mTypeError\u001b[0m                                 Traceback (most recent call last)",
      "Cell \u001b[1;32mIn[7], line 8\u001b[0m\n\u001b[0;32m      6\u001b[0m \u001b[38;5;66;03m# Looping over the DataFrame\u001b[39;00m\n\u001b[0;32m      7\u001b[0m \u001b[38;5;28;01mfor\u001b[39;00m i \u001b[38;5;129;01min\u001b[39;00m \u001b[38;5;28mrange\u001b[39m(df_phish\u001b[38;5;241m.\u001b[39mshape[\u001b[38;5;241m0\u001b[39m]):\n\u001b[1;32m----> 8\u001b[0m     hasRE \u001b[38;5;241m=\u001b[39m \u001b[43mre\u001b[49m\u001b[38;5;241;43m.\u001b[39;49m\u001b[43msearch\u001b[49m\u001b[43m(\u001b[49m\u001b[38;5;124;43m'''\u001b[39;49m\u001b[38;5;124;43mre :\u001b[39;49m\u001b[38;5;124;43m'''\u001b[39;49m\u001b[43m,\u001b[49m\u001b[43m \u001b[49m\u001b[43mdf_phish\u001b[49m\u001b[38;5;241;43m.\u001b[39;49m\u001b[43miloc\u001b[49m\u001b[43m[\u001b[49m\u001b[43mi\u001b[49m\u001b[43m]\u001b[49m\u001b[43m[\u001b[49m\u001b[38;5;124;43m\"\u001b[39;49m\u001b[38;5;124;43mEmail Text\u001b[39;49m\u001b[38;5;124;43m\"\u001b[39;49m\u001b[43m]\u001b[49m\u001b[43m)\u001b[49m\n\u001b[0;32m      9\u001b[0m     \u001b[38;5;28;01mif\u001b[39;00m hasRE:\n\u001b[0;32m     10\u001b[0m         df_phish\u001b[38;5;241m.\u001b[39mat[i, \u001b[38;5;124m\"\u001b[39m\u001b[38;5;124mIs_Response\u001b[39m\u001b[38;5;124m\"\u001b[39m] \u001b[38;5;241m=\u001b[39m \u001b[38;5;28;01mTrue\u001b[39;00m\n",
      "File \u001b[1;32mc:\\Users\\danie\\AppData\\Local\\Programs\\Python\\Python311\\Lib\\re\\__init__.py:176\u001b[0m, in \u001b[0;36msearch\u001b[1;34m(pattern, string, flags)\u001b[0m\n\u001b[0;32m    173\u001b[0m \u001b[38;5;28;01mdef\u001b[39;00m \u001b[38;5;21msearch\u001b[39m(pattern, string, flags\u001b[38;5;241m=\u001b[39m\u001b[38;5;241m0\u001b[39m):\n\u001b[0;32m    174\u001b[0m \u001b[38;5;250m    \u001b[39m\u001b[38;5;124;03m\"\"\"Scan through string looking for a match to the pattern, returning\u001b[39;00m\n\u001b[0;32m    175\u001b[0m \u001b[38;5;124;03m    a Match object, or None if no match was found.\"\"\"\u001b[39;00m\n\u001b[1;32m--> 176\u001b[0m     \u001b[38;5;28;01mreturn\u001b[39;00m \u001b[43m_compile\u001b[49m\u001b[43m(\u001b[49m\u001b[43mpattern\u001b[49m\u001b[43m,\u001b[49m\u001b[43m \u001b[49m\u001b[43mflags\u001b[49m\u001b[43m)\u001b[49m\u001b[38;5;241;43m.\u001b[39;49m\u001b[43msearch\u001b[49m\u001b[43m(\u001b[49m\u001b[43mstring\u001b[49m\u001b[43m)\u001b[49m\n",
      "\u001b[1;31mTypeError\u001b[0m: expected string or bytes-like object, got 'float'"
     ]
    }
   ],
   "source": [
    "print(df_phish.tail(5))\n",
    "countNAN = df_phish[\"Email Text\"] == \"NaN\"\n",
    "print(countNAN.sum())\n",
    "# Adding \"Is_Response\" feature\n",
    "df_phish[\"Is_Response\"] = None\n",
    "# Looping over the DataFrame\n",
    "for i in range(df_phish.shape[0]):\n",
    "    hasRE = re.search('''re :''', df_phish.iloc[i][\"Email Text\"])\n",
    "    if hasRE:\n",
    "        df_phish.at[i, \"Is_Response\"] = True\n",
    "    else:\n",
    "        df_phish.at[i, \"Is_Response\"] = False\n",
    "print(df_phish.tail(5))"
   ]
  },
  {
   "cell_type": "code",
   "execution_count": 54,
   "metadata": {},
   "outputs": [
    {
     "data": {
      "text/plain": [
       "Is_Response\n",
       "False    0.870452\n",
       "True     0.129548\n",
       "Name: proportion, dtype: float64"
      ]
     },
     "execution_count": 54,
     "metadata": {},
     "output_type": "execute_result"
    }
   ],
   "source": [
    "df_phish[\"Is_Response\"].value_counts(normalize=True)"
   ]
  },
  {
   "cell_type": "markdown",
   "metadata": {},
   "source": [
    "### Emails with links"
   ]
  },
  {
   "cell_type": "code",
   "execution_count": 55,
   "metadata": {},
   "outputs": [
    {
     "name": "stdout",
     "output_type": "stream",
     "text": [
      "      Email Text Email Type Is_Response\n",
      "8594         NaN        NaN        True\n",
      "9999         NaN        NaN       False\n",
      "11069        NaN        NaN       False\n",
      "11320        NaN        NaN       False\n",
      "13843        NaN        NaN       False\n",
      "      Email Text Email Type Is_Response Has_WebLink  \\\n",
      "8594         NaN        NaN        True       False   \n",
      "9999         NaN        NaN       False        True   \n",
      "11069        NaN        NaN       False       False   \n",
      "11320        NaN        NaN       False        True   \n",
      "13843        NaN        NaN       False       False   \n",
      "\n",
      "                                                 WebLink  \n",
      "8594                                                None  \n",
      "9999                            http://uk.my.yahoo.com--  \n",
      "11069                                               None  \n",
      "11320  http://download.com.com/3000-2165-6474268.html...  \n",
      "13843                                               None  \n"
     ]
    }
   ],
   "source": [
    "print(df_phish.tail(5))\n",
    "# Adding \"Has_WebLink\" and \"WebLink\" column\n",
    "df_phish[\"Has_WebLink\"] = None\n",
    "df_phish[\"WebLink\"] = None\n",
    "# Patterns to search for hyperlinks, This may need updating to include more patterns\n",
    "patterns = [r'https?://\\S+', r'www\\.\\S+']\n",
    "\n",
    "# Looping over the DataFrame\n",
    "for i in range(df_phish.shape[0]):\n",
    "    has_link = False\n",
    "    link = None\n",
    "    # Looping over each pattern\n",
    "    for pattern in patterns:\n",
    "        match = re.search(pattern, str(df_phish.iloc[i][\"Email Text\"]))\n",
    "        if match:\n",
    "            has_link = True\n",
    "            # write something here to record the link\n",
    "            link = match.group()\n",
    "            break  # Break the loop if any pattern is found\n",
    "    # Update the \"Has_WebLink\" column based on whether a link is found\n",
    "    df_phish.at[i, \"Has_WebLink\"] = has_link\n",
    "    df_phish.at[i, \"WebLink\"] = link\n",
    "print(df_phish.tail(5))\n",
    "    "
   ]
  },
  {
   "cell_type": "code",
   "execution_count": 56,
   "metadata": {},
   "outputs": [
    {
     "data": {
      "text/plain": [
       "Has_WebLink\n",
       "False    0.775979\n",
       "True     0.224021\n",
       "Name: proportion, dtype: float64"
      ]
     },
     "execution_count": 56,
     "metadata": {},
     "output_type": "execute_result"
    }
   ],
   "source": [
    "df_phish[\"Has_WebLink\"].value_counts(normalize=True)"
   ]
  },
  {
   "cell_type": "markdown",
   "metadata": {},
   "source": [
    "### Email Length"
   ]
  },
  {
   "cell_type": "code",
   "execution_count": 57,
   "metadata": {},
   "outputs": [
    {
     "name": "stdout",
     "output_type": "stream",
     "text": [
      "3627      155\n",
      "3806      646\n",
      "5763     1120\n",
      "6299      615\n",
      "6821     1758\n",
      "8594     3390\n",
      "9999     1876\n",
      "11069    2253\n",
      "11320     449\n",
      "13843    3504\n",
      "Name: Email_Length, dtype: object\n",
      "      Email Text Email Type Is_Response Has_WebLink  \\\n",
      "8594         NaN        NaN        True       False   \n",
      "9999         NaN        NaN       False        True   \n",
      "11069        NaN        NaN       False       False   \n",
      "11320        NaN        NaN       False        True   \n",
      "13843        NaN        NaN       False       False   \n",
      "\n",
      "                                                 WebLink Email_Length  \n",
      "8594                                                None         3390  \n",
      "9999                            http://uk.my.yahoo.com--         1876  \n",
      "11069                                               None         2253  \n",
      "11320  http://download.com.com/3000-2165-6474268.html...          449  \n",
      "13843                                               None         3504  \n"
     ]
    }
   ],
   "source": [
    "# Creating the Email Length Column\n",
    "df_phish[\"Email_Length\"] = None\n",
    "for i in range(df_phish.shape[0]):\n",
    "    df_phish.at[i, \"Email_Length\"] = len(str(df_phish.iloc[i][\"Email Text\"]))\n",
    "    \n",
    "# Verifying it worked\n",
    "print(df_phish[\"Email_Length\"].tail(10))\n",
    "print(df_phish.tail(5))\n"
   ]
  }
 ],
 "metadata": {
  "kernelspec": {
   "display_name": "Python 3",
   "language": "python",
   "name": "python3"
  },
  "language_info": {
   "codemirror_mode": {
    "name": "ipython",
    "version": 3
   },
   "file_extension": ".py",
   "mimetype": "text/x-python",
   "name": "python",
   "nbconvert_exporter": "python",
   "pygments_lexer": "ipython3",
   "version": "3.11.2"
  }
 },
 "nbformat": 4,
 "nbformat_minor": 2
}
