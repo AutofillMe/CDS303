{
 "cells": [
  {
   "cell_type": "markdown",
   "metadata": {},
   "source": [
    "# Exploratory Analysis Phishing_Email.csv Group 3"
   ]
  },
  {
   "cell_type": "code",
   "execution_count": null,
   "metadata": {},
   "outputs": [],
   "source": [
    "# Potentionally helpful libraries:\n",
    "# pandas, matplotlib, seaborn, nltk, scikit-learn, gensim, pyLDAvis\n",
    "\n",
    "import pandas as pd\n",
    "import re"
   ]
  },
  {
   "cell_type": "markdown",
   "metadata": {},
   "source": [
    "## Data Cleaning Function"
   ]
  },
  {
   "cell_type": "code",
   "execution_count": null,
   "metadata": {},
   "outputs": [],
   "source": [
    "def make_df():\n",
    "    # Reading in the data\n",
    "    df = pd.read_csv(\"Phishing_Email.csv\")\n",
    "    # Dropping the unecessary index row\n",
    "    df = df.drop(df.columns[0], axis=1)\n",
    "    \n",
    "    # Removing Nulls\n",
    "    # Check for null values in the \"Email Text\" column\n",
    "    null_mask = df[\"Email Text\"].isnull()\n",
    "\n",
    "    # If there are null values, drop the corresponding rows\n",
    "    if null_mask.any():\n",
    "        df = df.drop(df[null_mask].index)\n",
    "        \n",
    "    #Remove 'empty' emails from the dataframe\n",
    "    df_cleaned = df[df['Email Text'].str.lower() != 'empty']\n",
    "    df = df_cleaned\n",
    "    \n",
    "    return df"
   ]
  },
  {
   "cell_type": "markdown",
   "metadata": {},
   "source": [
    "## Feature Extraction"
   ]
  },
  {
   "cell_type": "markdown",
   "metadata": {},
   "source": [
    "### Emails with \"re:\""
   ]
  },
  {
   "cell_type": "code",
   "execution_count": null,
   "metadata": {},
   "outputs": [],
   "source": [
    "df_phish = make_df()\n",
    "\n",
    "print(df_phish.tail(5))\n",
    "\n",
    "def countNaN(df):\n",
    "    return (df[\"Email Text\"] == \"NaN\").sum()\n",
    "\n",
    "print(countNaN(df_phish))"
   ]
  },
  {
   "cell_type": "code",
   "execution_count": null,
   "metadata": {},
   "outputs": [],
   "source": [
    "print(df_phish.tail(20))\n",
    "# Adding \"Is_Response\" feature\n",
    "df_phish[\"Is_Response\"] = df_phish[\"Email Text\"].str.contains(\"re :\")\n",
    "print(df_phish.tail(20))"
   ]
  },
  {
   "cell_type": "code",
   "execution_count": null,
   "metadata": {},
   "outputs": [],
   "source": [
    "df_phish[\"Is_Response\"].value_counts(normalize=True)"
   ]
  },
  {
   "cell_type": "markdown",
   "metadata": {},
   "source": [
    "### Emails with links"
   ]
  },
  {
   "cell_type": "code",
   "execution_count": null,
   "metadata": {},
   "outputs": [],
   "source": [
    "# This is causing columns to turn into NaN values and losing data.\n",
    "\n",
    "print(df_phish.tail(5))\n",
    "# Adding \"Has_WebLink\" column\n",
    "df_phish[\"Has_WebLink\"] = df_phish[\"Email Text\"].str.contains('(https?://|www.)')\n",
    "\n",
    "print(df_phish.tail(5))\n",
    "    "
   ]
  },
  {
   "cell_type": "code",
   "execution_count": null,
   "metadata": {},
   "outputs": [],
   "source": [
    "df_phish[\"Has_WebLink\"].value_counts(normalize=True)"
   ]
  },
  {
   "cell_type": "markdown",
   "metadata": {},
   "source": [
    "### Email Length"
   ]
  },
  {
   "cell_type": "code",
   "execution_count": null,
   "metadata": {},
   "outputs": [],
   "source": [
    "print(df_phish.tail(5))\n",
    "\n",
    "# Creating the Email Length Column\n",
    "df_phish[\"Email_Length\"] = df_phish[\"Email Text\"].str.len()\n",
    "    \n",
    "# Verifying it worked\n",
    "print(df_phish.tail(5))\n"
   ]
  },
  {
   "cell_type": "code",
   "execution_count": null,
   "metadata": {},
   "outputs": [],
   "source": [
    "print(df_phish.tail(10))\n",
    "\n",
    "df_phish[\"Hypen_Count\"] = df_phish[\"Email Text\"].str.count(r\"-\")\n",
    "df_phish[\"Pound_Count\"] = df_phish[\"Email Text\"].str.count(r\"#\")\n",
    "df_phish[\"At_Count\"] = df_phish[\"Email Text\"].str.count(r\"@\")\n",
    "\n",
    "print(df_phish.tail(10))"
   ]
  },
  {
   "cell_type": "code",
   "execution_count": null,
   "metadata": {},
   "outputs": [],
   "source": [
    "print(df_phish.tail(10))\n",
    "\n",
    "df_phish[\"Exclamation_Count\"] = df_phish[\"Email Text\"].str.count(r\"!\")\n",
    "df_phish[\"Question_Count\"] = df_phish[\"Email Text\"].str.count(r\"\\?\")\n",
    "df_phish[\"Period_Count\"] = df_phish[\"Email Text\"].str.count(r\"\\.\")\n",
    "\n",
    "print(df_phish.tail(10))"
   ]
  },
  {
   "cell_type": "markdown",
   "metadata": {},
   "source": [
    "### Emails with All-Caps characters over a certain percent threshold (8%) to determine safe or phishing emails"
   ]
  },
  {
   "cell_type": "code",
   "execution_count": null,
   "metadata": {},
   "outputs": [],
   "source": [
    "#writing a function that calculates the percent of upper and lowercase characters in an email\n",
    "\n",
    "def percent_of_all_caps(text):\n",
    "    if not text or not isinstance(text, str):\n",
    "        return 0\n",
    "    #getting rid of special characters from check for all-caps\n",
    "    alphanumeric_text = re.sub(r'[^A-Za-z0-9]','',text)\n",
    "    num_all_caps =  sum(1 for c in alphanumeric_text if c.isupper())\n",
    "    num_total_characters = len(alphanumeric_text)\n",
    "    #prevent divide by 0\n",
    "    if(num_total_characters == 0):\n",
    "        return 0\n",
    "    percent_all_caps = (num_all_caps/num_total_characters)*100\n",
    "    return percent_all_caps\n",
    "\n",
    "#creating a new column in dataframe for percentage of capitalization and marking emails as safe or phishing\n",
    "df_phish['Capitalization_Percent'] = df_phish['Email Text'].apply(percent_of_all_caps)\n",
    "\n",
    "# I dont want to assume a percentage value that would be indicative of a phishing email or not just based on capitalization percentage.\n",
    "# We should let the model determine that or make a graph showing at different percentages, what proportion of emails were correctly identified as phishing.\n",
    "# df_phish['Is Phishing'] = df_phish['Capitalization_Percent'] > 8    #initially had as 55, looked at exported cleaned data to adjust to 8\n",
    "\n",
    "#export in a CSV file to better compare my results on phishing classification vs. actual results\n",
    "# temp_df = df_phish[['Email Text', 'Email Type', 'Capitalization_Percent', 'Is Phishing']]\n",
    "#temp_df.to_csv('test.csv', index=False)\n",
    "#print(temp_df)"
   ]
  }
 ],
 "metadata": {
  "kernelspec": {
   "display_name": "Python 3",
   "language": "python",
   "name": "python3"
  },
  "language_info": {
   "codemirror_mode": {
    "name": "ipython",
    "version": 3
   },
   "file_extension": ".py",
   "mimetype": "text/x-python",
   "name": "python",
   "nbconvert_exporter": "python",
   "pygments_lexer": "ipython3",
   "version": "3.11.2"
  }
 },
 "nbformat": 4,
 "nbformat_minor": 2
}
